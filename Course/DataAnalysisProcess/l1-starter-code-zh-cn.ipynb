{
 "cells": [
  {
   "cell_type": "markdown",
   "metadata": {},
   "source": [
    "在开始之前，使用 iPython 笔记本时有几点需要注意一下：\n",
    "\n",
    "- 如果代码单元格被运行之后，在单元格的左侧方框中会有数字出现。\n",
    "- 当你启动一个新的笔记本会话时，请确保运行所有单元格（从第1个到你上次离开的单元格）。即使笔记本中依然可以看到上次运行所得到的输出，你重新运行的笔记本内核却处于一个完全新的状态，所以你需要重载数据和运行代码。\n",
    "- 上一条注意事项特别重要。当你的答案和课程中的练习不一致时，请试着重载数据并一个一个运行代码单元格，以确保你所操作的变量和数据和练习中的一致。\n",
    "\n",
    "\n",
    "## 从 CSV 加载数据"
   ]
  },
  {
   "cell_type": "code",
   "execution_count": 1,
   "metadata": {
    "collapsed": true
   },
   "outputs": [],
   "source": [
    "import unicodecsv\n",
    "\n",
    "## 长代码版本 (该版本与短代码版本功能一致)\n",
    "\n",
    "# enrollments = []\n",
    "# f = open('enrollments.csv', 'rb')\n",
    "# reader = unicodecsv.DictReader(f)\n",
    "# for row in reader:\n",
    "#     enrollments.append(row)\n",
    "# f.close()\n",
    "\n",
    "with open('enrollments.csv', 'rb') as f:\n",
    "    reader = unicodecsv.DictReader(f)\n",
    "    enrollments = list(reader)"
   ]
  },
  {
   "cell_type": "code",
   "execution_count": 2,
   "metadata": {},
   "outputs": [],
   "source": [
    "#####################################\n",
    "#                 1                 #\n",
    "#####################################\n",
    "\n",
    "## 从 daily_engagement.csv 和 project_submissions.csv 载入数据并存\n",
    "## 储至下面的变量中，然后检查每张表的第1行。\n",
    "def csvReader(filename):\n",
    "    with open(filename,\"rb\") as f:\n",
    "        reader = unicodecsv.DictReader(f)\n",
    "        result = list(reader)\n",
    "    return result\n",
    "\n",
    "daily_engagement = csvReader(\"daily-engagement.csv\")\n",
    "project_submissions = csvReader(\"project-submissions.csv\")"
   ]
  },
  {
   "cell_type": "markdown",
   "metadata": {},
   "source": [
    "## 修正数据类型"
   ]
  },
  {
   "cell_type": "code",
   "execution_count": 3,
   "metadata": {},
   "outputs": [
    {
     "data": {
      "text/plain": [
       "{'account_key': '448',\n",
       " 'cancel_date': datetime.datetime(2015, 1, 14, 0, 0),\n",
       " 'days_to_cancel': 65,\n",
       " 'is_canceled': True,\n",
       " 'is_udacity': True,\n",
       " 'join_date': datetime.datetime(2014, 11, 10, 0, 0),\n",
       " 'status': 'canceled'}"
      ]
     },
     "execution_count": 3,
     "metadata": {},
     "output_type": "execute_result"
    }
   ],
   "source": [
    "from datetime import datetime as dt\n",
    "\n",
    "# 将字符串格式的时间转为 Python datetime 类型的时间。\n",
    "# 如果没有时间字符串传入，返回 None\n",
    "\n",
    "def parse_date(date):\n",
    "    if date == '':\n",
    "        return None\n",
    "    else:\n",
    "        return dt.strptime(date, '%Y-%m-%d')\n",
    "    \n",
    "# 将可能是空字符串或字符串类型的数据转为 整型 或 None。\n",
    "\n",
    "def parse_maybe_int(i):\n",
    "    if i == '':\n",
    "        return None\n",
    "    else:\n",
    "        return int(i)\n",
    "\n",
    "# 清理 enrollments 表格中的数据类型\n",
    "\n",
    "for enrollment in enrollments:\n",
    "    enrollment['cancel_date'] = parse_date(enrollment['cancel_date'])\n",
    "    enrollment['days_to_cancel'] = parse_maybe_int(enrollment['days_to_cancel'])\n",
    "    enrollment['is_canceled'] = enrollment['is_canceled'] == 'True'\n",
    "    enrollment['is_udacity'] = enrollment['is_udacity'] == 'True'\n",
    "    enrollment['join_date'] = parse_date(enrollment['join_date'])\n",
    "    \n",
    "enrollments[0]"
   ]
  },
  {
   "cell_type": "code",
   "execution_count": 4,
   "metadata": {},
   "outputs": [
    {
     "data": {
      "text/plain": [
       "{'acct': '0',\n",
       " 'lessons_completed': 0,\n",
       " 'num_courses_visited': 1,\n",
       " 'projects_completed': 0,\n",
       " 'total_minutes_visited': 11.6793745,\n",
       " 'utc_date': datetime.datetime(2015, 1, 9, 0, 0)}"
      ]
     },
     "execution_count": 4,
     "metadata": {},
     "output_type": "execute_result"
    }
   ],
   "source": [
    "# 清理 engagement 的数据类型\n",
    "for engagement_record in daily_engagement:\n",
    "    #because the value type is str containing float, which can't change the str to the int diectly.So we need change to float firstly\n",
    "    engagement_record['lessons_completed'] = int(float(engagement_record['lessons_completed']))\n",
    "    engagement_record['num_courses_visited'] = int(float(engagement_record['num_courses_visited']))\n",
    "    engagement_record['projects_completed'] = int(float(engagement_record['projects_completed']))\n",
    "    engagement_record['total_minutes_visited'] = float(engagement_record['total_minutes_visited'])\n",
    "    engagement_record['utc_date'] = parse_date(engagement_record['utc_date'])\n",
    "    \n",
    "daily_engagement[0]"
   ]
  },
  {
   "cell_type": "code",
   "execution_count": 5,
   "metadata": {},
   "outputs": [
    {
     "data": {
      "text/plain": [
       "{'account_key': '256',\n",
       " 'assigned_rating': 'UNGRADED',\n",
       " 'completion_date': datetime.datetime(2015, 1, 16, 0, 0),\n",
       " 'creation_date': datetime.datetime(2015, 1, 14, 0, 0),\n",
       " 'lesson_key': '3176718735',\n",
       " 'processing_state': 'EVALUATED'}"
      ]
     },
     "execution_count": 5,
     "metadata": {},
     "output_type": "execute_result"
    }
   ],
   "source": [
    "# 清理 submissions 的数据类型\n",
    "for submission in project_submissions:\n",
    "    submission['completion_date'] = parse_date(submission['completion_date'])\n",
    "    submission['creation_date'] = parse_date(submission['creation_date'])\n",
    "\n",
    "project_submissions[0]"
   ]
  },
  {
   "cell_type": "markdown",
   "metadata": {},
   "source": [
    "注意：当我们在运行上方的单元格时，我们已经改变了数据变量中的内容。如果你试着在同一个会话多次运行这些单元格时，可能会出错。\n",
    "\n",
    "## 探索数据"
   ]
  },
  {
   "cell_type": "code",
   "execution_count": 6,
   "metadata": {},
   "outputs": [],
   "source": [
    "#####################################\n",
    "#                 2                 #\n",
    "#####################################\n",
    "\n",
    "## 计算每张表中的总行数，和独立学生（拥有独立的 account keys）的数量\n",
    "def calValue(data, index=None):\n",
    "    totalValue = 0\n",
    "    uniqueId = set()\n",
    "    if index:\n",
    "        for i in data:\n",
    "            totalValue += 1\n",
    "            uniqueId.add(i[index])\n",
    "#         result = (totalValue, uniqueId)\n",
    "    else:\n",
    "        print(\"You need enter index\")\n",
    "        return\n",
    "    return (totalValue, uniqueId)\n",
    "\n",
    "enrollmentCount, enrollmentID = calValue(enrollments, \"account_key\")\n",
    "engagementCount, engagementID = calValue(daily_engagement, \"acct\")\n",
    "submissionCount, submissionID = calValue(project_submissions, \"account_key\")\n",
    "\n",
    "enrollmentUniqueCount = len(enrollmentID)\n",
    "engagementUniqueCount = len(engagementID)\n",
    "submissionUniqueCount = len(submissionID)"
   ]
  },
  {
   "cell_type": "markdown",
   "metadata": {},
   "source": [
    "## 数据中的问题"
   ]
  },
  {
   "cell_type": "code",
   "execution_count": 7,
   "metadata": {},
   "outputs": [
    {
     "data": {
      "text/plain": [
       "'0'"
      ]
     },
     "execution_count": 7,
     "metadata": {},
     "output_type": "execute_result"
    }
   ],
   "source": [
    "#####################################\n",
    "#                 3                 #\n",
    "#####################################\n",
    "\n",
    "## 将 daily_engagement 表中的 \"acct\" 重命名为 ”account_key\"\n",
    "def renameKey(data, oldIndex=None, newIndex=None):\n",
    "#     from copy import deepcopy\n",
    "    newData = data.copy()\n",
    "    for i in newData:\n",
    "        i[newIndex]  = i[oldIndex]\n",
    "        del(i[oldIndex])\n",
    "    return newData\n",
    "\n",
    "test = renameKey(daily_engagement, \"acct\", \"account_key\")\n",
    "test[0][\"account_key\"]"
   ]
  },
  {
   "cell_type": "markdown",
   "metadata": {},
   "source": [
    "## 缺失的互动（Engagement）记录"
   ]
  },
  {
   "cell_type": "code",
   "execution_count": 8,
   "metadata": {},
   "outputs": [
    {
     "name": "stdout",
     "output_type": "stream",
     "text": [
      "There is a student in enrollments, but it's not in engagements!\n",
      "{'account_key': '1305', 'status': 'canceled', 'is_udacity': False, 'days_to_cancel': 38, 'is_canceled': True, 'cancel_date': datetime.datetime(2015, 6, 19, 0, 0), 'join_date': datetime.datetime(2015, 5, 12, 0, 0)}\n"
     ]
    }
   ],
   "source": [
    "#####################################\n",
    "#                 4                 #\n",
    "#####################################\n",
    "\n",
    "## 找到任意一个 enrollments 中的学生，但不在 daily engagement 表中。\n",
    "## 打印出这条 enrollments 记录。\n",
    "for element in enrollments:\n",
    "    for engagement in daily_engagement:\n",
    "        testID = 0\n",
    "        if element[\"account_key\"] == engagement[\"account_key\"]:\n",
    "            testID += 1\n",
    "    if testID:\n",
    "        print(\"There is a student in enrollments, but it's not in engagements!\")\n",
    "        print(element)\n",
    "        break"
   ]
  },
  {
   "cell_type": "markdown",
   "metadata": {},
   "source": [
    "## 检查更多的问题记录"
   ]
  },
  {
   "cell_type": "code",
   "execution_count": 9,
   "metadata": {},
   "outputs": [
    {
     "name": "stdout",
     "output_type": "stream",
     "text": [
      "3 [{'account_key': '1304', 'status': 'canceled', 'is_udacity': True, 'days_to_cancel': 59, 'is_canceled': True, 'cancel_date': datetime.datetime(2015, 3, 10, 0, 0), 'join_date': datetime.datetime(2015, 1, 10, 0, 0)}, {'account_key': '1304', 'status': 'canceled', 'is_udacity': True, 'days_to_cancel': 99, 'is_canceled': True, 'cancel_date': datetime.datetime(2015, 6, 17, 0, 0), 'join_date': datetime.datetime(2015, 3, 10, 0, 0)}, {'account_key': '1101', 'status': 'current', 'is_udacity': True, 'days_to_cancel': None, 'is_canceled': False, 'cancel_date': None, 'join_date': datetime.datetime(2015, 2, 25, 0, 0)}]\n"
     ]
    }
   ],
   "source": [
    "#####################################\n",
    "#                 5                 #\n",
    "#####################################\n",
    "\n",
    "## 计算无众不同的数据点条数（在 enrollments 中存在，但在 engagement 表中缺失）\n",
    "outLierCount = 0\n",
    "outLier = []\n",
    "udacity_test_accounts = [] #because we know that there are some test id\n",
    "for element in enrollments:\n",
    "    if element[\"account_key\"] not in engagementID and \\\n",
    "        element[\"join_date\"] != element[\"cancel_date\"]:\n",
    "        outLierCount += 1\n",
    "        outLier.append(element)\n",
    "        udacity_test_accounts.append(element[\"account_key\"])\n",
    "print(outLierCount, outLier)"
   ]
  },
  {
   "cell_type": "markdown",
   "metadata": {},
   "source": [
    "## 追踪剩余的问题"
   ]
  },
  {
   "cell_type": "code",
   "execution_count": 10,
   "metadata": {},
   "outputs": [
    {
     "data": {
      "text/plain": [
       "6"
      ]
     },
     "execution_count": 10,
     "metadata": {},
     "output_type": "execute_result"
    }
   ],
   "source": [
    "# 为所有 Udacity 测试帐号建立一组 set \n",
    "udacity_test_accounts = set()\n",
    "for enrollment in enrollments:\n",
    "    if enrollment['is_udacity']:\n",
    "        udacity_test_accounts.add(enrollment['account_key'])\n",
    "len(udacity_test_accounts)"
   ]
  },
  {
   "cell_type": "code",
   "execution_count": 11,
   "metadata": {
    "collapsed": true
   },
   "outputs": [],
   "source": [
    "# 通过 account_key 删除所有 Udacity 的测试帐号\n",
    "def remove_udacity_accounts(data):\n",
    "    non_udacity_data = []\n",
    "    for data_point in data:\n",
    "        if data_point['account_key'] not in udacity_test_accounts:\n",
    "            non_udacity_data.append(data_point)\n",
    "    return non_udacity_data"
   ]
  },
  {
   "cell_type": "code",
   "execution_count": 12,
   "metadata": {},
   "outputs": [
    {
     "name": "stdout",
     "output_type": "stream",
     "text": [
      "1622\n",
      "135656\n",
      "3634\n"
     ]
    }
   ],
   "source": [
    "# 从3张表中移除所有 Udacity 的测试帐号\n",
    "non_udacity_enrollments = remove_udacity_accounts(enrollments)\n",
    "non_udacity_engagement = remove_udacity_accounts(daily_engagement)\n",
    "non_udacity_submissions = remove_udacity_accounts(project_submissions)\n",
    "\n",
    "print(len(non_udacity_enrollments))\n",
    "print(len(non_udacity_engagement))\n",
    "print(len(non_udacity_submissions))"
   ]
  },
  {
   "cell_type": "markdown",
   "metadata": {},
   "source": [
    "## 重新定义问题"
   ]
  },
  {
   "cell_type": "code",
   "execution_count": 13,
   "metadata": {},
   "outputs": [
    {
     "data": {
      "text/plain": [
       "995"
      ]
     },
     "execution_count": 13,
     "metadata": {},
     "output_type": "execute_result"
    }
   ],
   "source": [
    "#####################################\n",
    "#                 6                 #\n",
    "#####################################\n",
    "\n",
    "## 创建一个叫 paid_students 的字典，并在字典中存储所有还没有取消或者注册时间超过7天的学生。\n",
    "## 字典的键为帐号（account key），值为学生注册的时间。\n",
    "\n",
    "paid_students = {}\n",
    "\n",
    "for element in non_udacity_enrollments:\n",
    "    if not element[\"is_canceled\"] or element[\"days_to_cancel\"] > 7:\n",
    "        key = element[\"account_key\"]\n",
    "        date = element[\"join_date\"]\n",
    "        if key not in paid_students or date > paid_students[key]:\n",
    "            paid_students[key] = date\n",
    "len(paid_students)"
   ]
  },
  {
   "cell_type": "markdown",
   "metadata": {},
   "source": [
    "## 获取第1周的数据\n",
    "获取第1周的数据"
   ]
  },
  {
   "cell_type": "code",
   "execution_count": 14,
   "metadata": {
    "collapsed": true
   },
   "outputs": [],
   "source": [
    "# 基于学生的加入日期和特定一天的互动记录，若该互动记录发生在学生加入1周内，则反回 True\n",
    "\n",
    "def within_one_week(join_date, engagement_date):\n",
    "    time_delta = engagement_date - join_date\n",
    "    return time_delta.days < 7 and time_delta.days >= 0"
   ]
  },
  {
   "cell_type": "code",
   "execution_count": 15,
   "metadata": {},
   "outputs": [
    {
     "data": {
      "text/plain": [
       "{'account_key': '0',\n",
       " 'lessons_completed': 0,\n",
       " 'num_courses_visited': 1,\n",
       " 'projects_completed': 0,\n",
       " 'total_minutes_visited': 11.6793745,\n",
       " 'utc_date': datetime.datetime(2015, 1, 9, 0, 0)}"
      ]
     },
     "execution_count": 15,
     "metadata": {},
     "output_type": "execute_result"
    }
   ],
   "source": [
    "#####################################\n",
    "#                 7                 #\n",
    "#####################################\n",
    "\n",
    "## 创建一个 engagement 记录的列表，该列表只包括付费学生以及加入的前7天的学生的记录\n",
    "## 输入符合要求的行数\n",
    "\n",
    "paid_engagement_in_first_week = []\n",
    "def removeFree(data):\n",
    "    newData = []\n",
    "    for element in data:\n",
    "        if element[\"account_key\"] in paid_students:\n",
    "            newData.append(element)\n",
    "    return newData\n",
    "#remove the free data\n",
    "paid_enrollments = removeFree(non_udacity_enrollments)\n",
    "paid_engagement = removeFree(non_udacity_engagement)\n",
    "paid_submissions = removeFree(non_udacity_submissions)\n",
    "\n",
    "for item in paid_engagement:\n",
    "    key = item[\"account_key\"]\n",
    "    joinDate = paid_students[key]\n",
    "    \n",
    "    if within_one_week(joinDate, item[\"utc_date\"]):\n",
    "        paid_engagement_in_first_week.append(item)\n",
    "\n",
    "len(paid_engagement_in_first_week)\n",
    "paid_engagement_in_first_week[0]"
   ]
  },
  {
   "cell_type": "code",
   "execution_count": 16,
   "metadata": {
    "collapsed": true
   },
   "outputs": [],
   "source": [
    "for element in paid_engagement:\n",
    "    if element[\"num_courses_visited\"] > 0:\n",
    "        element[\"has_visited\"] = 1\n",
    "    else:\n",
    "        element[\"has_visited\"] = 0"
   ]
  },
  {
   "cell_type": "markdown",
   "metadata": {},
   "source": [
    "## Exploring Student Engagement"
   ]
  },
  {
   "cell_type": "code",
   "execution_count": 17,
   "metadata": {
    "collapsed": true
   },
   "outputs": [],
   "source": [
    "from collections import defaultdict\n",
    "\n",
    "# 创建基于 student 对 engagement 进行分组的字典，字典的键为帐号（account key），值为包含互动记录的列表\n",
    "\n",
    "engagement_by_account = defaultdict(list)\n",
    "for engagement_record in paid_engagement_in_first_week:\n",
    "    account_key = engagement_record['account_key']\n",
    "    engagement_by_account[account_key].append(engagement_record)"
   ]
  },
  {
   "cell_type": "code",
   "execution_count": 18,
   "metadata": {
    "collapsed": true
   },
   "outputs": [],
   "source": [
    "# 创建一个包含学生在第1周在教室所花总时间和字典。键为帐号（account key），值为数字（所花总时间）\n",
    "total_minutes_by_account = {}\n",
    "for account_key, engagement_for_student in engagement_by_account.items():\n",
    "    total_minutes = 0\n",
    "    for engagement_record in engagement_for_student:\n",
    "        total_minutes += engagement_record['total_minutes_visited']\n",
    "    total_minutes_by_account[account_key] = total_minutes"
   ]
  },
  {
   "cell_type": "code",
   "execution_count": 19,
   "metadata": {},
   "outputs": [
    {
     "name": "stdout",
     "output_type": "stream",
     "text": [
      "Mean: 306.708326753\n",
      "Standard deviation: 412.996933409\n",
      "Minimum: 0.0\n",
      "Maximum: 3564.7332645\n"
     ]
    }
   ],
   "source": [
    "import numpy as np\n",
    "\n",
    "# 汇总和描述关于教室所花时间的数据\n",
    "total_minutes = list(total_minutes_by_account.values())\n",
    "# print(total_minutes)\n",
    "print('Mean:', np.mean(total_minutes))\n",
    "print('Standard deviation:', np.std(total_minutes))\n",
    "print('Minimum:', np.min(total_minutes))\n",
    "print('Maximum:', np.max(total_minutes))"
   ]
  },
  {
   "cell_type": "markdown",
   "metadata": {},
   "source": [
    "## 纠错现有的数据分析代码"
   ]
  },
  {
   "cell_type": "code",
   "execution_count": 20,
   "metadata": {},
   "outputs": [
    {
     "name": "stdout",
     "output_type": "stream",
     "text": [
      "{'account_key': '163', 'lessons_completed': 4, 'num_courses_visited': 4, 'total_minutes_visited': 850.519339666, 'has_visited': 1, 'utc_date': datetime.datetime(2015, 7, 9, 0, 0), 'projects_completed': 0}\n",
      "{'account_key': '163', 'lessons_completed': 6, 'num_courses_visited': 6, 'total_minutes_visited': 872.633923334, 'has_visited': 1, 'utc_date': datetime.datetime(2015, 7, 10, 0, 0), 'projects_completed': 0}\n",
      "{'account_key': '163', 'lessons_completed': 6, 'num_courses_visited': 2, 'total_minutes_visited': 777.018903666, 'has_visited': 1, 'utc_date': datetime.datetime(2015, 7, 11, 0, 0), 'projects_completed': 0}\n",
      "{'account_key': '163', 'lessons_completed': 2, 'num_courses_visited': 1, 'total_minutes_visited': 294.568774, 'has_visited': 1, 'utc_date': datetime.datetime(2015, 7, 12, 0, 0), 'projects_completed': 0}\n",
      "{'account_key': '163', 'lessons_completed': 1, 'num_courses_visited': 3, 'total_minutes_visited': 471.2139785, 'has_visited': 1, 'utc_date': datetime.datetime(2015, 7, 13, 0, 0), 'projects_completed': 0}\n",
      "{'account_key': '163', 'lessons_completed': 1, 'num_courses_visited': 2, 'total_minutes_visited': 298.778345333, 'has_visited': 1, 'utc_date': datetime.datetime(2015, 7, 14, 0, 0), 'projects_completed': 0}\n",
      "{'account_key': '163', 'lessons_completed': 0, 'num_courses_visited': 0, 'total_minutes_visited': 0.0, 'has_visited': 0, 'utc_date': datetime.datetime(2015, 7, 15, 0, 0), 'projects_completed': 0}\n"
     ]
    }
   ],
   "source": [
    "#####################################\n",
    "#                 8                 #\n",
    "#####################################\n",
    "\n",
    "## 通过之前的方法检查是否有问题数据存在。\n",
    "## 定位至少一条异常数据，打印出来并检查。\n",
    "maxMinutes = np.max(total_minutes)\n",
    "studentMaxMinutes = None\n",
    "for studentsId, totalMinite in total_minutes_by_account.items():\n",
    "    if totalMinite == maxMinutes:\n",
    "        studentMaxMinutes = studentsId\n",
    "\n",
    "for element in paid_engagement_in_first_week:\n",
    "    if element[\"account_key\"] == studentMaxMinutes:\n",
    "        print(element)\n",
    "\n",
    "#开始的最大值为1000000，已经超过一周总时间这是因为该学生重复注册，所以需要修改之前的within_one_week函数，增加筛选条件time.delta.days>=0"
   ]
  },
  {
   "cell_type": "markdown",
   "metadata": {},
   "source": [
    "## 第1周完成的课程数（Lessons）"
   ]
  },
  {
   "cell_type": "code",
   "execution_count": 21,
   "metadata": {},
   "outputs": [
    {
     "name": "stdout",
     "output_type": "stream",
     "text": [
      "The mean value is:  1.63618090452\n",
      "The standard deviation is:  3.00256129983\n",
      "The min value is:  0\n",
      "The max value is:  36\n"
     ]
    }
   ],
   "source": [
    "#####################################\n",
    "#                 9                 #\n",
    "#####################################\n",
    "\n",
    "## 修改之前的代码，找出第1周学生完成课程数的 平均值、标准差、最小值、最大值。尝试创建一个或更多的函数来复用之前的代码\n",
    "def groupData(data, index):\n",
    "    result = defaultdict(list)\n",
    "    for item in data:\n",
    "        result[item[index]].append(item)\n",
    "    return result\n",
    "\n",
    "def groupSum(data, index):\n",
    "    sumDataItem = {}\n",
    "    for key, element in data.items():\n",
    "        total = 0\n",
    "        for item in element:\n",
    "            total += item[index]\n",
    "        sumDataItem[key] = total\n",
    "    return sumDataItem\n",
    "\n",
    "def describeData(data):\n",
    "    print(\"The mean value is: \", np.mean(data))\n",
    "    print(\"The standard deviation is: \", np.std(data))\n",
    "    print(\"The min value is: \", np.min(data))\n",
    "    print(\"The max value is: \", np.max(data))\n",
    "    \n",
    "engagement_by_account = groupData(paid_engagement_in_first_week, \"account_key\")\n",
    "lessons_completed_by_account = groupSum(engagement_by_account, \"lessons_completed\")\n",
    "describeData(list(lessons_completed_by_account.values()))"
   ]
  },
  {
   "cell_type": "markdown",
   "metadata": {},
   "source": [
    "## 第1周的访问次数"
   ]
  },
  {
   "cell_type": "code",
   "execution_count": 22,
   "metadata": {},
   "outputs": [
    {
     "name": "stdout",
     "output_type": "stream",
     "text": [
      "The mean value is:  2.86733668342\n",
      "The standard deviation is:  2.25519800292\n",
      "The min value is:  0\n",
      "The max value is:  7\n"
     ]
    }
   ],
   "source": [
    "######################################\n",
    "#                 10                 #\n",
    "######################################\n",
    "\n",
    "## 找出第1周学生访问教室天数的平均值、标准差、最小值、最大值。\n",
    "\n",
    "# visited_by_accout = groupData(paid_engagement, \"account_key\")\n",
    "visited_number_by_account = groupSum(engagement_by_account, \"has_visited\")\n",
    "describeData(list(visited_number_by_account.values()))\n",
    "# paid_engagement"
   ]
  },
  {
   "cell_type": "markdown",
   "metadata": {},
   "source": [
    "## 区分项目通过的学生"
   ]
  },
  {
   "cell_type": "code",
   "execution_count": 23,
   "metadata": {},
   "outputs": [
    {
     "name": "stdout",
     "output_type": "stream",
     "text": [
      "4527 2392\n"
     ]
    }
   ],
   "source": [
    "######################################\n",
    "#                 11                 #\n",
    "######################################\n",
    "\n",
    "## 创建两个付费学生第1周的互动数据列表（engagement）。第1个包含通过项目的学生，第2个包含没通过项目的学生。\n",
    "\n",
    "subway_project_lesson_keys = ['746169184', '3176718735']\n",
    "passing_engagement = []\n",
    "non_passing_engagement = []\n",
    "\n",
    "pass_subway_project = set()\n",
    "for element in paid_submissions:\n",
    "    if element[\"lesson_key\"] in subway_project_lesson_keys:\n",
    "        if element[\"assigned_rating\"] in [\"PASSED\", \"DISTINCTION\"]:\n",
    "            pass_subway_project.add(element[\"account_key\"])\n",
    "\n",
    "\n",
    "for element in paid_engagement_in_first_week:\n",
    "    if element[\"account_key\"] in pass_subway_project:\n",
    "        passing_engagement.append(element)\n",
    "    else:\n",
    "        non_passing_engagement.append(element)\n",
    "\n",
    "print(len(passing_engagement), len(non_passing_engagement))"
   ]
  },
  {
   "cell_type": "markdown",
   "metadata": {},
   "source": [
    "## 对比两组学生数据"
   ]
  },
  {
   "cell_type": "code",
   "execution_count": 24,
   "metadata": {},
   "outputs": [
    {
     "name": "stdout",
     "output_type": "stream",
     "text": [
      "The passing engagement about has_visited: \n",
      "\n",
      "The mean value is:  3.38485316847\n",
      "The standard deviation is:  2.25882147092\n",
      "The min value is:  0\n",
      "The max value is:  7\n",
      "=======================================================\n",
      "\n",
      "The non-passing engagement about has_visited: \n",
      "\n",
      "The mean value is:  1.90517241379\n",
      "The standard deviation is:  1.90573144136\n",
      "The min value is:  0\n",
      "The max value is:  7\n",
      "=======================================================\n",
      "\n",
      "The passing engagement about lessons_completed: \n",
      "\n",
      "The mean value is:  2.05255023184\n",
      "The standard deviation is:  3.14222705558\n",
      "The min value is:  0\n",
      "The max value is:  36\n",
      "=======================================================\n",
      "\n",
      "The non-passing engagement about lessons_completed: \n",
      "\n",
      "The mean value is:  0.862068965517\n",
      "The standard deviation is:  2.54915994183\n",
      "The min value is:  0\n",
      "The max value is:  27\n",
      "=======================================================\n",
      "\n",
      "The passing engagement about total_minutes_visited: \n",
      "\n",
      "The mean value is:  394.586046484\n",
      "The standard deviation is:  448.499519327\n",
      "The min value is:  0.0\n",
      "The max value is:  3564.7332645\n",
      "=======================================================\n",
      "\n",
      "The non-passing engagement about total_minutes_visited: \n",
      "\n",
      "The mean value is:  143.326474267\n",
      "The standard deviation is:  269.538619011\n",
      "The min value is:  0.0\n",
      "The max value is:  1768.52274933\n",
      "=======================================================\n",
      "\n"
     ]
    }
   ],
   "source": [
    "######################################\n",
    "#                 12                 #\n",
    "######################################\n",
    "\n",
    "## 计算你所感兴趣的数据指标，并分析通过项目和没有通过项目的两组学生有何异同。\n",
    "## 你可以从我们之前使用过的数据指标开始（教室的访问时间、课程完成数、访问天数）。\n",
    "passing_engagement_by_account = groupData(passing_engagement, \"account_key\")\n",
    "non_passing_engagement_by_account = groupData(non_passing_engagement, \"account_key\")\n",
    "for i in [\"has_visited\", \"lessons_completed\", \"total_minutes_visited\"]:\n",
    "    print(\"The passing engagement about %s: \\n\" % i)\n",
    "    passing_engagement_data = groupSum(passing_engagement_by_account, i)\n",
    "    describeData(list(passing_engagement_data.values()))\n",
    "    print(\"=\"*55 + \"\\n\")\n",
    "    print(\"The non-passing engagement about %s: \\n\" % i)\n",
    "    non_passing_engagement_data = groupSum(non_passing_engagement_by_account, i)\n",
    "    describeData(list(non_passing_engagement_data.values()))\n",
    "    print(\"=\"*55 + \"\\n\")\n",
    "\n",
    "# passing_engagement_by_account"
   ]
  },
  {
   "cell_type": "markdown",
   "metadata": {},
   "source": [
    "## 制作直方图"
   ]
  },
  {
   "cell_type": "code",
   "execution_count": 25,
   "metadata": {},
   "outputs": [
    {
     "name": "stdout",
     "output_type": "stream",
     "text": [
      "The passing engagement about has_visited: \n",
      "\n",
      "The mean value is:  3.38485316847\n",
      "The standard deviation is:  2.25882147092\n",
      "The min value is:  0\n",
      "The max value is:  7\n"
     ]
    },
    {
     "data": {
      "image/png": "[encoded data removed]",
      "text/plain": [
       "<matplotlib.figure.Figure at 0x10c0a5470>"
      ]
     },
     "metadata": {},
     "output_type": "display_data"
    },
    {
     "name": "stdout",
     "output_type": "stream",
     "text": [
      "=======================================================\n",
      "\n",
      "The non-passing engagement about has_visited: \n",
      "\n",
      "The mean value is:  1.90517241379\n",
      "The standard deviation is:  1.90573144136\n",
      "The min value is:  0\n",
      "The max value is:  7\n"
     ]
    },
    {
     "data": {
      "image/png": "[encoded data removed]",
      "text/plain": [
       "<matplotlib.figure.Figure at 0x10c07c8d0>"
      ]
     },
     "metadata": {},
     "output_type": "display_data"
    },
    {
     "name": "stdout",
     "output_type": "stream",
     "text": [
      "=======================================================\n",
      "\n",
      "The passing engagement about lessons_completed: \n",
      "\n",
      "The mean value is:  2.05255023184\n",
      "The standard deviation is:  3.14222705558\n",
      "The min value is:  0\n",
      "The max value is:  36\n"
     ]
    },
    {
     "data": {
      "image/png": "[encoded data removed]",
      "text/plain": [
       "<matplotlib.figure.Figure at 0x10c043ef0>"
      ]
     },
     "metadata": {},
     "output_type": "display_data"
    },
    {
     "name": "stdout",
     "output_type": "stream",
     "text": [
      "=======================================================\n",
      "\n",
      "The non-passing engagement about lessons_completed: \n",
      "\n",
      "The mean value is:  0.862068965517\n",
      "The standard deviation is:  2.54915994183\n",
      "The min value is:  0\n",
      "The max value is:  27\n"
     ]
    },
    {
     "data": {
      "image/png": "[encoded data removed]",
      "text/plain": [
       "<matplotlib.figure.Figure at 0x10c0108d0>"
      ]
     },
     "metadata": {},
     "output_type": "display_data"
    },
    {
     "name": "stdout",
     "output_type": "stream",
     "text": [
      "=======================================================\n",
      "\n",
      "The passing engagement about total_minutes_visited: \n",
      "\n",
      "The mean value is:  394.586046484\n",
      "The standard deviation is:  448.499519327\n",
      "The min value is:  0.0\n",
      "The max value is:  3564.7332645\n"
     ]
    },
    {
     "data": {
      "image/png": "[encoded data removed]",
      "text/plain": [
       "<matplotlib.figure.Figure at 0x10bfe4358>"
      ]
     },
     "metadata": {},
     "output_type": "display_data"
    },
    {
     "name": "stdout",
     "output_type": "stream",
     "text": [
      "=======================================================\n",
      "\n",
      "The non-passing engagement about total_minutes_visited: \n",
      "\n",
      "The mean value is:  143.326474267\n",
      "The standard deviation is:  269.538619011\n",
      "The min value is:  0.0\n",
      "The max value is:  1768.52274933\n"
     ]
    },
    {
     "data": {
      "image/png": "[encoded data removed]",
      "text/plain": [
       "<matplotlib.figure.Figure at 0x10c00f080>"
      ]
     },
     "metadata": {},
     "output_type": "display_data"
    },
    {
     "name": "stdout",
     "output_type": "stream",
     "text": [
      "=======================================================\n",
      "\n"
     ]
    }
   ],
   "source": [
    "######################################\n",
    "#                 13                 #\n",
    "######################################\n",
    "\n",
    "## 针对通过项目和没有通过项目的两组学生，为我们之前研究的三个数据指标制作直方图。\n",
    "## 你也可以为其它你所检验的数据指标来制作直方图。\n",
    "%matplotlib inline\n",
    "import matplotlib.pyplot as plt\n",
    "def describeData2(data):\n",
    "    if type(data) != list:\n",
    "        newdata = list(data)\n",
    "    else:\n",
    "        newdata = data\n",
    "    print(\"The mean value is: \", np.mean(newdata))\n",
    "    print(\"The standard deviation is: \", np.std(newdata))\n",
    "    print(\"The min value is: \", np.min(newdata))\n",
    "    print(\"The max value is: \", np.max(newdata))\n",
    "    plt.hist(newdata)\n",
    "    plt.show()\n",
    "\n",
    "for i in [\"has_visited\", \"lessons_completed\", \"total_minutes_visited\"]:\n",
    "    print(\"The passing engagement about %s: \\n\" % i)\n",
    "    passing_engagement_data = groupSum(passing_engagement_by_account, i)\n",
    "    describeData2(passing_engagement_data.values())\n",
    "    print(\"=\"*55 + \"\\n\")\n",
    "    print(\"The non-passing engagement about %s: \\n\" % i)\n",
    "    non_passing_engagement_data = groupSum(non_passing_engagement_by_account, i)\n",
    "    describeData2(non_passing_engagement_data.values())\n",
    "    print(\"=\"*55 + \"\\n\")\n"
   ]
  },
  {
   "cell_type": "markdown",
   "metadata": {},
   "source": [
    "## 改进图表及分享发现"
   ]
  },
  {
   "cell_type": "code",
   "execution_count": 26,
   "metadata": {},
   "outputs": [
    {
     "data": {
      "text/plain": [
       "<matplotlib.text.Text at 0x10b8a8390>"
      ]
     },
     "execution_count": 26,
     "metadata": {},
     "output_type": "execute_result"
    },
    {
     "data": {
      "image/png": "[encoded data removed]",
      "text/plain": [
       "<matplotlib.figure.Figure at 0x103d6c7b8>"
      ]
     },
     "metadata": {},
     "output_type": "display_data"
    }
   ],
   "source": [
    "######################################\n",
    "#                 14                 #\n",
    "######################################\n",
    "\n",
    "## 至少改进一幅之前的可视化图表，尝试导入 seaborn 库使你的图表看起来更美观。\n",
    "## 加入轴标签及表头，并修改一个或多个 hist() 内的变量。\n",
    "import seaborn as sns\n",
    "sns.set(color_codes=True)\n",
    "\n",
    "passing_engagement_data = groupSum(passing_engagement_by_account, \"has_visited\")\n",
    "non_passing_engagement_data = groupSum(non_passing_engagement_by_account, \"has_visited\")\n",
    "plt.hist(list(passing_engagement_data.values()), bins=8)\n",
    "plt.xlabel(\"Number of days\")\n",
    "plt.title(\"Distribution of classroom visits in the first week\" + \"\\n\" + \n",
    "          \"for students who pass the subway project\")\n",
    "\n",
    "plt.hist(list(non_passing_engagement_data.values()), bins=8)\n",
    "plt.xlabel(\"Number of days\")\n",
    "plt.title(\"Distribution of classroom visits in the first week\" + \"\\n\" + \n",
    "          \"for students who non-pass the subway project\")"
   ]
  }
 ],
 "metadata": {
  "anaconda-cloud": {},
  "kernelspec": {
   "display_name": "Python [conda root]",
   "language": "python",
   "name": "conda-root-py"
  },
  "language_info": {
   "codemirror_mode": {
    "name": "ipython",
    "version": 3
   },
   "file_extension": ".py",
   "mimetype": "text/x-python",
   "name": "python",
   "nbconvert_exporter": "python",
   "pygments_lexer": "ipython3",
   "version": "3.5.2"
  }
 },
 "nbformat": 4,
 "nbformat_minor": 1
}
